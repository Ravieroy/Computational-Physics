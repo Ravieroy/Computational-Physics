{
 "cells": [
  {
   "cell_type": "markdown",
   "id": "8ec0615b",
   "metadata": {},
   "source": [
    "**Problem 5** : ***Quantum Harmonic Oscillator*** \n",
    "    \n",
    "      Solve the Schrodinger equation for for Quantum Harmonic Oscillator in 1D and plot the eigenfunctions for n = 0,1,2. Also compare the numerical result with the analytical result.\n",
    "    \n",
    "$$\\begin{equation*}\n",
    "V(x)= \\frac12 m\\omega^2x^2\n",
    "\\end{equation*}$$"
   ]
  },
  {
   "cell_type": "code",
   "execution_count": null,
   "id": "e7906b6e",
   "metadata": {},
   "outputs": [],
   "source": []
  }
 ],
 "metadata": {
  "kernelspec": {
   "display_name": "Python 3",
   "language": "python",
   "name": "python3"
  },
  "language_info": {
   "codemirror_mode": {
    "name": "ipython",
    "version": 3
   },
   "file_extension": ".py",
   "mimetype": "text/x-python",
   "name": "python",
   "nbconvert_exporter": "python",
   "pygments_lexer": "ipython3",
   "version": "3.8.12"
  },
  "toc": {
   "base_numbering": 1,
   "nav_menu": {},
   "number_sections": true,
   "sideBar": true,
   "skip_h1_title": false,
   "title_cell": "Table of Contents",
   "title_sidebar": "Contents",
   "toc_cell": false,
   "toc_position": {},
   "toc_section_display": true,
   "toc_window_display": false
  }
 },
 "nbformat": 4,
 "nbformat_minor": 5
}
