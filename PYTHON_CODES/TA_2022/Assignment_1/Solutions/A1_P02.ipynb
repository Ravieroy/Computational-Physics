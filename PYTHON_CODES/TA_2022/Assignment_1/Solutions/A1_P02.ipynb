{
 "cells": [
  {
   "cell_type": "markdown",
   "id": "f49883b6",
   "metadata": {},
   "source": [
    "**Problem 2** : ***Numerical integration:***\n",
    "\n",
    "    Define a function to calculate the integral by Simpsons's 1/3 Rule and compare with the analytical result  for.\n",
    "    \n",
    "   $$I  = \\int_{0}^{\\pi} \\sin(x) dx$$ \n",
    "\n",
    "    "
   ]
  },
  {
   "cell_type": "code",
   "execution_count": 1,
   "id": "1f01f048",
   "metadata": {
    "ExecuteTime": {
     "end_time": "2022-03-18T21:45:12.704043Z",
     "start_time": "2022-03-18T21:45:12.286411Z"
    }
   },
   "outputs": [],
   "source": [
    "import numpy as np\n",
    "import matplotlib.pyplot as plt\n",
    "%matplotlib inline"
   ]
  },
  {
   "cell_type": "code",
   "execution_count": 2,
   "id": "2c505ef3",
   "metadata": {
    "ExecuteTime": {
     "end_time": "2022-03-18T21:45:12.708933Z",
     "start_time": "2022-03-18T21:45:12.705916Z"
    }
   },
   "outputs": [],
   "source": [
    "def f(x):\n",
    "    return np.sin(x)"
   ]
  },
  {
   "cell_type": "code",
   "execution_count": 3,
   "id": "8c6f739e",
   "metadata": {
    "ExecuteTime": {
     "end_time": "2022-03-18T21:45:12.717155Z",
     "start_time": "2022-03-18T21:45:12.711630Z"
    }
   },
   "outputs": [],
   "source": [
    "def simpsons_int(f,a,b,n = 100):\n",
    "    \"\"\"\n",
    "    Evaluates the integration of the function fn(x) in the limit a to b. \n",
    "    \n",
    "    :Params\n",
    "    f : function \n",
    "    a : lower limit\n",
    "    b : upper limit\n",
    "    \"\"\"\n",
    "    h = (b-a)/n\n",
    "    x = np.linspace(0,b,n+1)\n",
    "    y = f(x)\n",
    "    I_simp = h/3 * np.sum(y[0:-1:2] + 4*y[1::2] + y[2::2])\n",
    "    \n",
    "    return I_simp"
   ]
  },
  {
   "cell_type": "code",
   "execution_count": 4,
   "id": "36973f02",
   "metadata": {
    "ExecuteTime": {
     "end_time": "2022-03-18T21:45:12.722860Z",
     "start_time": "2022-03-18T21:45:12.719335Z"
    }
   },
   "outputs": [],
   "source": [
    "a = 0\n",
    "b = np.pi\n",
    "I = simpsons_int(f,a,b)"
   ]
  },
  {
   "cell_type": "code",
   "execution_count": 5,
   "id": "cfe154bc",
   "metadata": {
    "ExecuteTime": {
     "end_time": "2022-03-18T21:45:12.733133Z",
     "start_time": "2022-03-18T21:45:12.724997Z"
    }
   },
   "outputs": [
    {
     "data": {
      "text/plain": [
       "2.0000000108245044"
      ]
     },
     "execution_count": 5,
     "metadata": {},
     "output_type": "execute_result"
    }
   ],
   "source": [
    "I"
   ]
  },
  {
   "cell_type": "code",
   "execution_count": null,
   "id": "a147fa67",
   "metadata": {},
   "outputs": [],
   "source": []
  }
 ],
 "metadata": {
  "kernelspec": {
   "display_name": "Python 3",
   "language": "python",
   "name": "python3"
  },
  "language_info": {
   "codemirror_mode": {
    "name": "ipython",
    "version": 3
   },
   "file_extension": ".py",
   "mimetype": "text/x-python",
   "name": "python",
   "nbconvert_exporter": "python",
   "pygments_lexer": "ipython3",
   "version": "3.8.12"
  },
  "toc": {
   "base_numbering": 1,
   "nav_menu": {},
   "number_sections": true,
   "sideBar": true,
   "skip_h1_title": false,
   "title_cell": "Table of Contents",
   "title_sidebar": "Contents",
   "toc_cell": false,
   "toc_position": {},
   "toc_section_display": true,
   "toc_window_display": false
  }
 },
 "nbformat": 4,
 "nbformat_minor": 5
}
