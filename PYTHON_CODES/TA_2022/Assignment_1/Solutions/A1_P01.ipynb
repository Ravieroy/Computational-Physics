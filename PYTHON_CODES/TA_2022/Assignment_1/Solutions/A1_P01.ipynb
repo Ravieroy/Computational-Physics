{
 "cells": [
  {
   "cell_type": "markdown",
   "id": "f689c51d",
   "metadata": {},
   "source": [
    "**Problem 1:** ***Numerical Differentiation:*** \n",
    "\n",
    "Consider the function $f(x) = x^2$ and,\n",
    "\n",
    "    - Plot the function f(x)\n",
    "    - Find the derivative numerically and plot the result(\\frac{df}{dx}) alongside the analytical solution.\n",
    "   (***While numpy is allowed, Do not use special packages to do the numerical derivative***)"
   ]
  },
  {
   "cell_type": "code",
   "execution_count": 2,
   "id": "c0dd2667",
   "metadata": {
    "ExecuteTime": {
     "end_time": "2022-03-18T20:38:24.235732Z",
     "start_time": "2022-03-18T20:38:23.826730Z"
    }
   },
   "outputs": [],
   "source": [
    "import numpy as np\n",
    "import matplotlib.pyplot as plt\n",
    "%matplotlib inline"
   ]
  },
  {
   "cell_type": "code",
   "execution_count": 1,
   "id": "d53e90c7",
   "metadata": {
    "ExecuteTime": {
     "end_time": "2022-03-18T20:36:25.682709Z",
     "start_time": "2022-03-18T20:36:25.673499Z"
    }
   },
   "outputs": [],
   "source": [
    "def f(x):\n",
    "    return x ** 2"
   ]
  },
  {
   "cell_type": "markdown",
   "id": "cd2388b3",
   "metadata": {},
   "source": [
    "    Central Difference Formula with step size h is \n",
    "\n",
    "$$f'(a) \\approx \\frac{1}{2} \\left( \\frac{f(a + h) - f(a)}{h} + \\frac{f(a) - f(a - h)}{h} \\right) = \\frac{f(a + h) - f(a - h)}{2h}\n",
    "$$"
   ]
  },
  {
   "cell_type": "code",
   "execution_count": 7,
   "id": "dba47606",
   "metadata": {
    "ExecuteTime": {
     "end_time": "2022-03-18T21:10:10.450903Z",
     "start_time": "2022-03-18T21:10:10.447136Z"
    }
   },
   "outputs": [],
   "source": [
    "def derivative(f,a,h = 0.0001):\n",
    "    \"\"\"\n",
    "    PARAMS: \n",
    "    \n",
    "    f : function\n",
    "        function of one variable\n",
    "        \n",
    "    a : Compute derivative at x = a\n",
    "    \n",
    "    h : Step size in difference formula\n",
    "    \"\"\"\n",
    "    return (f(a + h) - f(a - h))/ (2 * h)"
   ]
  },
  {
   "cell_type": "code",
   "execution_count": 8,
   "id": "1fbfb779",
   "metadata": {
    "ExecuteTime": {
     "end_time": "2022-03-18T21:10:12.798840Z",
     "start_time": "2022-03-18T21:10:12.793578Z"
    }
   },
   "outputs": [
    {
     "data": {
      "text/plain": [
       "1.0000000016668897"
      ]
     },
     "execution_count": 8,
     "metadata": {},
     "output_type": "execute_result"
    }
   ],
   "source": [
    "derivative(np.exp,0,h=0.0001)"
   ]
  },
  {
   "cell_type": "code",
   "execution_count": 12,
   "id": "91e564fc",
   "metadata": {
    "ExecuteTime": {
     "end_time": "2022-03-18T21:13:21.268107Z",
     "start_time": "2022-03-18T21:13:21.264313Z"
    }
   },
   "outputs": [],
   "source": [
    "x = np.linspace(0,1,100)\n",
    "dydx_num = derivative(f,x)\n",
    "dydx_ana = 2 * x"
   ]
  },
  {
   "cell_type": "code",
   "execution_count": 24,
   "id": "6913faf6",
   "metadata": {
    "ExecuteTime": {
     "end_time": "2022-03-18T21:16:29.336071Z",
     "start_time": "2022-03-18T21:16:29.036842Z"
    }
   },
   "outputs": [
    {
     "data": {
      "text/plain": [
       "<matplotlib.legend.Legend at 0x7f5fa21e85e0>"
      ]
     },
     "execution_count": 24,
     "metadata": {},
     "output_type": "execute_result"
    },
    {
     "data": {
      "image/png": "[encoded data removed]",
      "text/plain": [
       "<Figure size 432x288 with 1 Axes>"
      ]
     },
     "metadata": {
      "needs_background": "light"
     },
     "output_type": "display_data"
    }
   ],
   "source": [
    "plt.plot(x,dydx_num,'b-',label='Numerical')\n",
    "plt.plot(x,dydx_ana,'r-',label='analytical')\n",
    "plt.xlabel('x')\n",
    "plt.ylabel(r'$\\frac{df}{dx}$')\n",
    "plt.legend()"
   ]
  },
  {
   "cell_type": "code",
   "execution_count": null,
   "id": "b5440217",
   "metadata": {},
   "outputs": [],
   "source": []
  }
 ],
 "metadata": {
  "kernelspec": {
   "display_name": "Python 3",
   "language": "python",
   "name": "python3"
  },
  "language_info": {
   "codemirror_mode": {
    "name": "ipython",
    "version": 3
   },
   "file_extension": ".py",
   "mimetype": "text/x-python",
   "name": "python",
   "nbconvert_exporter": "python",
   "pygments_lexer": "ipython3",
   "version": "3.8.12"
  },
  "toc": {
   "base_numbering": 1,
   "nav_menu": {},
   "number_sections": true,
   "sideBar": true,
   "skip_h1_title": false,
   "title_cell": "Table of Contents",
   "title_sidebar": "Contents",
   "toc_cell": false,
   "toc_position": {},
   "toc_section_display": true,
   "toc_window_display": false
  }
 },
 "nbformat": 4,
 "nbformat_minor": 5
}
