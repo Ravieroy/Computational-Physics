{
 "cells": [
  {
   "cell_type": "markdown",
   "id": "5f1d9204",
   "metadata": {},
   "source": [
    "# Assignment -0"
   ]
  },
  {
   "cell_type": "markdown",
   "id": "daf38b01",
   "metadata": {},
   "source": [
    "## Problem-3\n",
    "\n",
    "### Solve general system of linear equation using matrix inversion approach."
   ]
  },
  {
   "cell_type": "markdown",
   "id": "da8acd06",
   "metadata": {},
   "source": [
    "### Matrix Equation\n",
    "\n",
    "$$ Ax = B$$\n",
    "$$ A^{-1}Ax = A^{-1}B$$\n",
    "$$ x = A^{-1}B$$"
   ]
  },
  {
   "cell_type": "markdown",
   "id": "256ae56e",
   "metadata": {},
   "source": [
    "### Consider the following system of equations"
   ]
  },
  {
   "cell_type": "markdown",
   "id": "25d80ae9",
   "metadata": {},
   "source": [
    "\\begin{align}\n",
    "4x  + 3y = 20 \\\\[1em]\n",
    "-5x + 9y = 26\n",
    "\\end{align}"
   ]
  },
  {
   "cell_type": "markdown",
   "id": "63e4ea76",
   "metadata": {},
   "source": [
    "### In Matrix form the above can be written as \n",
    "\n",
    "\\begin{gather}\n",
    " \\begin{bmatrix} 4 & 3 \\\\ -5 & 9 \\end{bmatrix}\\begin{bmatrix} x  \\\\ y  \\end{bmatrix}\n",
    " =\\begin{bmatrix} 20  \\\\ 26  \\end{bmatrix}\n",
    " \\end{gather}"
   ]
  },
  {
   "cell_type": "code",
   "execution_count": 1,
   "id": "9967ac8f",
   "metadata": {},
   "outputs": [],
   "source": [
    "import numpy as np"
   ]
  },
  {
   "cell_type": "code",
   "execution_count": 2,
   "id": "b5d7b1e7",
   "metadata": {},
   "outputs": [
    {
     "name": "stdout",
     "output_type": "stream",
     "text": [
      "[2. 4.]\n"
     ]
    }
   ],
   "source": [
    "A = np.array([[4, 3], [-5, 9]])\n",
    "B = B = np.array([20, 26])\n",
    "X = np.linalg.inv(A).dot(B)\n",
    "\n",
    "print(X)"
   ]
  }
 ],
 "metadata": {
  "kernelspec": {
   "display_name": "Python 3",
   "language": "python",
   "name": "python3"
  },
  "language_info": {
   "codemirror_mode": {
    "name": "ipython",
    "version": 3
   },
   "file_extension": ".py",
   "mimetype": "text/x-python",
   "name": "python",
   "nbconvert_exporter": "python",
   "pygments_lexer": "ipython3",
   "version": "3.8.12"
  },
  "toc": {
   "base_numbering": 1,
   "nav_menu": {},
   "number_sections": true,
   "sideBar": true,
   "skip_h1_title": false,
   "title_cell": "Table of Contents",
   "title_sidebar": "Contents",
   "toc_cell": false,
   "toc_position": {},
   "toc_section_display": true,
   "toc_window_display": false
  }
 },
 "nbformat": 4,
 "nbformat_minor": 5
}
