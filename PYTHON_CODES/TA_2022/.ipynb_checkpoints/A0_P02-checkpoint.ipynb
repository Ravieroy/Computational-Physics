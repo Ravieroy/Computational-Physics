{
 "cells": [
  {
   "cell_type": "markdown",
   "id": "0076ca01",
   "metadata": {},
   "source": [
    "# Assignment -0"
   ]
  },
  {
   "cell_type": "markdown",
   "id": "fd46a274",
   "metadata": {},
   "source": [
    "## Problem-2\n",
    "\n",
    "### Find commutator relations among Pauli matrix elements. Define all 2x2 Pauli matrices (remember that elements may by imaginary).  Define general formalism of commutator calculation using matrix multiplication, and check the commutator relations.\n",
    "\n",
    "[For Driver code click here](#Driver-Code)"
   ]
  },
  {
   "cell_type": "code",
   "execution_count": 1,
   "id": "fe439ae3",
   "metadata": {},
   "outputs": [],
   "source": [
    "import numpy as np"
   ]
  },
  {
   "cell_type": "code",
   "execution_count": 2,
   "id": "64076e31",
   "metadata": {},
   "outputs": [],
   "source": [
    "def show(M):\n",
    "    for line in M:\n",
    "        print ('  '.join(map(str, line)))"
   ]
  },
  {
   "cell_type": "code",
   "execution_count": 3,
   "id": "133dfb30",
   "metadata": {},
   "outputs": [],
   "source": [
    "def pauli(n):\n",
    "    sigma_x = [[0,1],[1,0]]\n",
    "    sigma_y = [[0,0-1j],[0+1j,0]]\n",
    "    sigma_z = [[1,0],[0,-1]]\n",
    "    if n == 1:\n",
    "        return sigma_x\n",
    "    elif n == 2:\n",
    "        return sigma_y\n",
    "    elif n ==3:\n",
    "        return sigma_z\n",
    "    else:\n",
    "        print(\"Wrong Input\")\n",
    "        "
   ]
  },
  {
   "cell_type": "code",
   "execution_count": 6,
   "id": "d61cc187",
   "metadata": {},
   "outputs": [
    {
     "name": "stdout",
     "output_type": "stream",
     "text": [
      "0  1\n",
      "1  0\n",
      "0  -1j\n",
      "1j  0\n"
     ]
    }
   ],
   "source": [
    "sx= pauli(1)\n",
    "show(sx)\n",
    "sy = pauli(2)\n",
    "show(sy)"
   ]
  },
  {
   "cell_type": "code",
   "execution_count": 7,
   "id": "20034c11",
   "metadata": {},
   "outputs": [],
   "source": [
    "def mat_prod(A,B):\n",
    "    return np.dot(A,B)"
   ]
  },
  {
   "cell_type": "code",
   "execution_count": 8,
   "id": "d0e7a08b",
   "metadata": {},
   "outputs": [],
   "source": [
    "def commutator(A,B):\n",
    "    return mat_prod(A,B)-mat_prod(B,A)"
   ]
  },
  {
   "cell_type": "code",
   "execution_count": 12,
   "id": "a244ece4",
   "metadata": {},
   "outputs": [
    {
     "name": "stdout",
     "output_type": "stream",
     "text": [
      "-2j  0j\n",
      "0j  2j\n"
     ]
    }
   ],
   "source": [
    "show(commutator(sy,sx))"
   ]
  },
  {
   "cell_type": "code",
   "execution_count": 25,
   "id": "bd7f4eaf",
   "metadata": {},
   "outputs": [],
   "source": [
    "def show_relation(A,B):\n",
    "    I = [[1,0],[0,1]]\n",
    "    p_mat = [I, pauli(1),pauli(2),pauli(3)]\n",
    "    pauli_dict = {0:'I',1:'sigma_x',2:'sigma_y',3:'sigma_z'}\n",
    "    comm =  (mat_prod(A,B)-mat_prod(B,A))/2j\n",
    "    comm2 =  -(mat_prod(A,B)-mat_prod(B,A))/2j\n",
    "    for items in p_mat:\n",
    "        if np.allclose(comm,items):\n",
    "            result = p_mat.index(items)\n",
    "            factor = '2i '\n",
    "        if np.allclose(comm2,items):\n",
    "            result = p_mat.index(items)\n",
    "            factor = '-2i '\n",
    "        if np.allclose(A,items):\n",
    "            mat_1 = p_mat.index(items)\n",
    "        if np.allclose(B, items):\n",
    "            mat_2 = p_mat.index(items)\n",
    "    \n",
    "    return print(f'[{pauli_dict[mat_1]},{pauli_dict[mat_2]}] = {factor}{pauli_dict[result]}')\n",
    "\n",
    "            "
   ]
  },
  {
   "cell_type": "code",
   "execution_count": 20,
   "id": "d73aad78",
   "metadata": {},
   "outputs": [
    {
     "name": "stdout",
     "output_type": "stream",
     "text": [
      "(1+0j)  0j\n",
      "0j  (-1-0j)\n"
     ]
    },
    {
     "data": {
      "text/plain": [
       "True"
      ]
     },
     "execution_count": 20,
     "metadata": {},
     "output_type": "execute_result"
    }
   ],
   "source": [
    "comm =  (mat_prod(sigma_x,sigma_y)-mat_prod(sigma_y,sigma_x))/2j\n",
    "show(comm)\n",
    "np.allclose(comm,sigma_z)"
   ]
  },
  {
   "cell_type": "markdown",
   "id": "73510496",
   "metadata": {},
   "source": [
    "# Driver-Code"
   ]
  },
  {
   "cell_type": "code",
   "execution_count": 26,
   "id": "58e1d7a3",
   "metadata": {},
   "outputs": [
    {
     "name": "stdout",
     "output_type": "stream",
     "text": [
      "0j  0j\n",
      "0j  0j\n",
      "[sigma_z,sigma_y] = -2i sigma_x\n"
     ]
    }
   ],
   "source": [
    "#Driver code\n",
    "\n",
    "sigma_x = pauli(1)\n",
    "sigma_y = pauli(2)\n",
    "sigma_z = pauli(3)\n",
    "\n",
    "res = commutator(sigma_y,sigma_y) #Find the commutation relation\n",
    "show(res) #Show the result\n",
    "show_relation(sigma_z,sigma_y) # Complete relation\n",
    "#You can run this function inside a loop to get all the possible commutation relation"
   ]
  },
  {
   "cell_type": "code",
   "execution_count": 13,
   "id": "144efba3",
   "metadata": {},
   "outputs": [
    {
     "data": {
      "text/plain": [
       "True"
      ]
     },
     "execution_count": 13,
     "metadata": {},
     "output_type": "execute_result"
    }
   ],
   "source": [
    "np.allclose(sigma_x, sigma_x)"
   ]
  },
  {
   "cell_type": "code",
   "execution_count": null,
   "id": "d4888b03",
   "metadata": {},
   "outputs": [],
   "source": []
  }
 ],
 "metadata": {
  "kernelspec": {
   "display_name": "Python 3",
   "language": "python",
   "name": "python3"
  },
  "language_info": {
   "codemirror_mode": {
    "name": "ipython",
    "version": 3
   },
   "file_extension": ".py",
   "mimetype": "text/x-python",
   "name": "python",
   "nbconvert_exporter": "python",
   "pygments_lexer": "ipython3",
   "version": "3.8.12"
  },
  "toc": {
   "base_numbering": 1,
   "nav_menu": {},
   "number_sections": true,
   "sideBar": true,
   "skip_h1_title": false,
   "title_cell": "Table of Contents",
   "title_sidebar": "Contents",
   "toc_cell": false,
   "toc_position": {},
   "toc_section_display": true,
   "toc_window_display": false
  }
 },
 "nbformat": 4,
 "nbformat_minor": 5
}
