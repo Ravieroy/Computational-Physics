{
 "cells": [
  {
   "cell_type": "markdown",
   "id": "3fe141db",
   "metadata": {},
   "source": [
    "# Assignment -0"
   ]
  },
  {
   "cell_type": "markdown",
   "id": "113e9070",
   "metadata": {},
   "source": [
    "## Problem-1\n",
    "\n",
    "### Given two matrix the task is that we will have to create a program to multiply two matrices in python. Consider arbitrary dimension of real matrix element. Read matrices as formatted input and write them in formatted output.\n",
    "\n",
    "[For full solution click here](#Solution-1)"
   ]
  },
  {
   "cell_type": "markdown",
   "id": "433b189e",
   "metadata": {},
   "source": [
    "### Matrix Definition\n",
    "\n",
    "$C_{ij} = (AB)_{i,j}= \\sum_{k=1}^m A_{ik}B_{kj}$\n",
    "\n",
    "### Number of columns of first matrix = number of rows of second ###"
   ]
  },
  {
   "cell_type": "markdown",
   "id": "c896b655",
   "metadata": {},
   "source": [
    "#### Method-1 : Core Python"
   ]
  },
  {
   "cell_type": "code",
   "execution_count": 6,
   "id": "9273d4c9",
   "metadata": {},
   "outputs": [],
   "source": [
    "A = [[1,2,3],[4,5,6]] # 2x3 matrix\n",
    "B = [[1,2],[3,4],[5,6]] #3x2 matrix\n",
    "C = [[0,0],[0,0]]#2x2 matrix"
   ]
  },
  {
   "cell_type": "code",
   "execution_count": 7,
   "id": "d161c1b7",
   "metadata": {},
   "outputs": [
    {
     "data": {
      "text/plain": [
       "[[1, 2, 3], [4, 5, 6]]"
      ]
     },
     "execution_count": 7,
     "metadata": {},
     "output_type": "execute_result"
    }
   ],
   "source": [
    "A"
   ]
  },
  {
   "cell_type": "markdown",
   "id": "cf7e2425",
   "metadata": {},
   "source": [
    "**Remember** : ***sum means loop***"
   ]
  },
  {
   "cell_type": "code",
   "execution_count": 8,
   "id": "33ece3fb",
   "metadata": {},
   "outputs": [
    {
     "name": "stdout",
     "output_type": "stream",
     "text": [
      "Matrix C\n",
      "[22, 28]\n",
      "[49, 64]\n"
     ]
    }
   ],
   "source": [
    "for i in range(len(A)):\n",
    "    for j in range(len(B[0])):\n",
    "        for k in range(len(B)):\n",
    "            C[i][j] += A[i][k] * B[k][j]\n",
    "               \n",
    "print('Matrix C')\n",
    "for row in C:\n",
    "    print(row)\n",
    "    "
   ]
  },
  {
   "cell_type": "markdown",
   "id": "5f0a36a6",
   "metadata": {},
   "source": [
    "#### Method-2 : Using Numpy Array"
   ]
  },
  {
   "cell_type": "code",
   "execution_count": 9,
   "id": "2abb8f20",
   "metadata": {},
   "outputs": [
    {
     "data": {
      "text/plain": [
       "2"
      ]
     },
     "execution_count": 9,
     "metadata": {},
     "output_type": "execute_result"
    }
   ],
   "source": [
    "len(A)"
   ]
  },
  {
   "cell_type": "code",
   "execution_count": 10,
   "id": "8ccb67b3",
   "metadata": {},
   "outputs": [],
   "source": [
    "def show(M):\n",
    "    for line in M:\n",
    "        print ('  '.join(map(str, line)))"
   ]
  },
  {
   "cell_type": "code",
   "execution_count": 11,
   "id": "d5203a31",
   "metadata": {},
   "outputs": [
    {
     "name": "stdout",
     "output_type": "stream",
     "text": [
      "22  28\n",
      "49  64\n"
     ]
    }
   ],
   "source": [
    "import numpy as np\n",
    "\n",
    "A = np.array([[1,2,3],[4,5,6]])\n",
    "B = np.array([[1,2],[3,4],[5,6]])\n",
    "C = np.dot(A,B)\n",
    "show(C)"
   ]
  },
  {
   "cell_type": "markdown",
   "id": "f8efae0e",
   "metadata": {},
   "source": [
    "#### Method-3 : Using Numpy Matrix"
   ]
  },
  {
   "cell_type": "code",
   "execution_count": 12,
   "id": "ddfc4dec",
   "metadata": {},
   "outputs": [
    {
     "name": "stdout",
     "output_type": "stream",
     "text": [
      "[[22 28]]\n",
      "[[49 64]]\n"
     ]
    }
   ],
   "source": [
    "A = np.matrix([[1,2,3],[4,5,6]])\n",
    "B = np.matrix([[1,2],[3,4],[5,6]])\n",
    "C = A * B\n",
    "show(C)"
   ]
  },
  {
   "cell_type": "markdown",
   "id": "8c4c3cd8",
   "metadata": {},
   "source": [
    "### A bit of object oriented method"
   ]
  },
  {
   "cell_type": "code",
   "execution_count": 13,
   "id": "98adc993",
   "metadata": {},
   "outputs": [
    {
     "name": "stdout",
     "output_type": "stream",
     "text": [
      "22  28\n",
      "49  64\n"
     ]
    }
   ],
   "source": [
    "import numpy as np\n",
    "\n",
    "def show(M):\n",
    "    for line in M:\n",
    "        print ('  '.join(map(str, line)))\n",
    "\n",
    "def mat_prod(A,B):\n",
    "    return np.dot(A,B)\n",
    "\n",
    "A = np.array([[1,2,3],[4,5,6]])\n",
    "B = np.array([[1,2],[3,4],[5,6]])\n",
    "C = mat_prod(A,B)\n",
    "show(C)"
   ]
  },
  {
   "cell_type": "markdown",
   "id": "c420ee0a",
   "metadata": {},
   "source": [
    "### Making matrices from user input"
   ]
  },
  {
   "cell_type": "code",
   "execution_count": 14,
   "id": "2bae7609",
   "metadata": {},
   "outputs": [],
   "source": [
    "def make_matrix(M, rows, cols):\n",
    "    M = []\n",
    "    for i in range(rows):\n",
    "        row = input(f\"Enter the elements of row {i+1} separated by single space: \")\n",
    "        M.append(list(map(int,row.split())))\n",
    "    return show(M)"
   ]
  },
  {
   "cell_type": "code",
   "execution_count": 15,
   "id": "d13f5b4a",
   "metadata": {},
   "outputs": [
    {
     "name": "stdout",
     "output_type": "stream",
     "text": [
      "Enter the elements of row 1 separated by single space: 1 2 3\n",
      "Enter the elements of row 2 separated by single space: 4 5 6\n",
      "1  2  3\n",
      "4  5  6\n"
     ]
    }
   ],
   "source": [
    "make_matrix(A, 2 , 3)"
   ]
  },
  {
   "cell_type": "markdown",
   "id": "b97e7b22",
   "metadata": {},
   "source": [
    "# Solution-1\n",
    "\n",
    "## Here we collect everything at one place"
   ]
  },
  {
   "cell_type": "code",
   "execution_count": 16,
   "id": "c5d5fe3c",
   "metadata": {},
   "outputs": [],
   "source": [
    "import numpy as np\n",
    "\n",
    "#Function to show the matrix in nice format\n",
    "def show(M):\n",
    "    for line in M:\n",
    "        print ('  '.join(map(str, line)))\n",
    "\n",
    "#for a given matrix A and B, finds the product\n",
    "def mat_prod(A,B):\n",
    "    #You can add a little check here to see if A and B are compatible\n",
    "    return np.dot(A,B)\n",
    "\n",
    "#takes user input to make a matrix\n",
    "def make_matrix(M, rows, cols):\n",
    "    M = []\n",
    "    for i in range(rows):\n",
    "        row = input(f\"Enter the elements of row {i+1} separated by single space: \")\n",
    "        M.append(list(map(int,row.split())))\n",
    "    return show(M)"
   ]
  },
  {
   "cell_type": "code",
   "execution_count": 17,
   "id": "419d9a8a",
   "metadata": {},
   "outputs": [
    {
     "name": "stdout",
     "output_type": "stream",
     "text": [
      "Enter the elements of row 1 separated by single space: 1 2 3\n",
      "Enter the elements of row 2 separated by single space: 4 5 6\n",
      "1  2  3\n",
      "4  5  6\n"
     ]
    }
   ],
   "source": [
    "make_matrix(A,2,3)"
   ]
  },
  {
   "cell_type": "code",
   "execution_count": 18,
   "id": "17c52be8",
   "metadata": {},
   "outputs": [
    {
     "name": "stdout",
     "output_type": "stream",
     "text": [
      "Enter the elements of row 1 separated by single space: 1 2\n",
      "Enter the elements of row 2 separated by single space: 3 4 \n",
      "Enter the elements of row 3 separated by single space: 5 6\n",
      "1  2\n",
      "3  4\n",
      "5  6\n"
     ]
    }
   ],
   "source": [
    "make_matrix(B,3,2)"
   ]
  },
  {
   "cell_type": "code",
   "execution_count": 19,
   "id": "afc61e0f",
   "metadata": {},
   "outputs": [
    {
     "name": "stdout",
     "output_type": "stream",
     "text": [
      "22  28\n",
      "49  64\n"
     ]
    }
   ],
   "source": [
    "C= mat_prod(A,B)\n",
    "show(C)"
   ]
  },
  {
   "cell_type": "code",
   "execution_count": 32,
   "id": "2bd17afa",
   "metadata": {},
   "outputs": [],
   "source": [
    "\n",
    "def make_matrix(M, rows, cols):\n",
    "    M = []\n",
    "    for i in range(rows):\n",
    "        row = input(f\"Enter the elements of row {i+1} separated by single space: \")\n",
    "        M.append(list(map(int,row.split())))\n",
    "    return show(M)"
   ]
  },
  {
   "cell_type": "code",
   "execution_count": 27,
   "id": "47135854",
   "metadata": {},
   "outputs": [
    {
     "name": "stdout",
     "output_type": "stream",
     "text": [
      "1  2  3\n",
      "4  5  6\n"
     ]
    }
   ],
   "source": [
    "show(Z)"
   ]
  },
  {
   "cell_type": "code",
   "execution_count": null,
   "id": "a472e2f9",
   "metadata": {},
   "outputs": [],
   "source": []
  }
 ],
 "metadata": {
  "kernelspec": {
   "display_name": "Python 3",
   "language": "python",
   "name": "python3"
  },
  "language_info": {
   "codemirror_mode": {
    "name": "ipython",
    "version": 3
   },
   "file_extension": ".py",
   "mimetype": "text/x-python",
   "name": "python",
   "nbconvert_exporter": "python",
   "pygments_lexer": "ipython3",
   "version": "3.8.12"
  },
  "toc": {
   "base_numbering": 1,
   "nav_menu": {},
   "number_sections": true,
   "sideBar": true,
   "skip_h1_title": false,
   "title_cell": "Table of Contents",
   "title_sidebar": "Contents",
   "toc_cell": false,
   "toc_position": {},
   "toc_section_display": true,
   "toc_window_display": false
  }
 },
 "nbformat": 4,
 "nbformat_minor": 5
}
