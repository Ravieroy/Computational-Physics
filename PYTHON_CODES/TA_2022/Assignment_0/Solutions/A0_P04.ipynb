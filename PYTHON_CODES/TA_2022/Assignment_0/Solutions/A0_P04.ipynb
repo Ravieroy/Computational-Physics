{
 "cells": [
  {
   "cell_type": "markdown",
   "id": "f4d075c0",
   "metadata": {},
   "source": [
    "# Assignment -0"
   ]
  },
  {
   "cell_type": "markdown",
   "id": "16266695",
   "metadata": {},
   "source": [
    "## Problem-4\n",
    "\n",
    "### Solve ordinary differential equation of 1 dimension using forward Euler method.\n",
    "[For Driver code click here](#Driver-Code)"
   ]
  },
  {
   "cell_type": "markdown",
   "id": "65b3b30c",
   "metadata": {},
   "source": [
    "## Euler Method\n",
    "\n",
    "$$\\frac{dy}{dx} = f(x,y)$$\n",
    "with $y (x_0) = y_0$\n",
    "\n",
    "Consider the points: $x_n = x_0 + nh$, $n = 1,2,3 \\dots$\n",
    "#### Euler's Formula\n",
    "$$y_{n+1} = y_n + hf(x_n,y_n)$$\n",
    "$h = x_{n+1} - x_n$\n",
    "\n",
    "#### Algorithm\n",
    "\n",
    "- Define the function: f(x,y)\n",
    "- Set initial value $y_0$ and step size h\n",
    "- Update $y = y + h * f(x,y)$ and x = x + h. Iterate this step in a loop. "
   ]
  },
  {
   "cell_type": "markdown",
   "id": "8a2f339e",
   "metadata": {},
   "source": [
    "#### Example Problem\n",
    "$$\\frac{dy}{dx} = y = f(x,y)$$, with $y(0) = 1$"
   ]
  },
  {
   "cell_type": "code",
   "execution_count": 1,
   "id": "d4d18673",
   "metadata": {
    "ExecuteTime": {
     "end_time": "2022-03-15T18:38:56.475080Z",
     "start_time": "2022-03-15T18:38:56.225760Z"
    }
   },
   "outputs": [],
   "source": [
    "import numpy as np\n",
    "import matplotlib.pyplot as plt"
   ]
  },
  {
   "cell_type": "code",
   "execution_count": 2,
   "id": "43982608",
   "metadata": {
    "ExecuteTime": {
     "end_time": "2022-03-15T18:38:56.511914Z",
     "start_time": "2022-03-15T18:38:56.476023Z"
    }
   },
   "outputs": [],
   "source": [
    "#Defining a function f(x,y)\n",
    "def f(x,y):\n",
    "    return  y\n",
    "\n",
    "def Euler(f,y0,x):\n",
    "    y = np.zeros(len(x))\n",
    "    y[0] = y0\n",
    "    for n in range(0,len(x)-1):\n",
    "        y[n+1] = y[n] + f(x[n],y[n])*(x[n+1] - x[n])\n",
    "    return y"
   ]
  },
  {
   "cell_type": "markdown",
   "id": "2bf22e42",
   "metadata": {},
   "source": [
    "# Driver-Code"
   ]
  },
  {
   "cell_type": "code",
   "execution_count": 3,
   "id": "7eab0eaa",
   "metadata": {
    "ExecuteTime": {
     "end_time": "2022-03-15T18:38:56.794804Z",
     "start_time": "2022-03-15T18:38:56.512999Z"
    }
   },
   "outputs": [
    {
     "data": {
      "image/png": "[encoded data removed]",
      "text/plain": [
       "<Figure size 432x288 with 1 Axes>"
      ]
     },
     "metadata": {
      "needs_background": "light"
     },
     "output_type": "display_data"
    }
   ],
   "source": [
    "# Driver Code\n",
    "x = np.linspace(0,2,21)\n",
    "y0 = 1\n",
    "y = Euler(f,y0,x)\n",
    "y_true = np.exp(x)\n",
    "\n",
    "#Plotting\n",
    "plt.plot(x,y,'b.-')\n",
    "plt.plot(x,y_true,'r-')\n",
    "plt.legend(['Euler','True'])\n",
    "plt.xlabel('x')\n",
    "plt.ylabel('y')\n",
    "plt.title(\"Solution of $y'=y , y(0)=1$\")\n",
    "plt.show()"
   ]
  },
  {
   "cell_type": "code",
   "execution_count": null,
   "id": "a5b19c56",
   "metadata": {},
   "outputs": [],
   "source": []
  }
 ],
 "metadata": {
  "kernelspec": {
   "display_name": "Python 3",
   "language": "python",
   "name": "python3"
  },
  "language_info": {
   "codemirror_mode": {
    "name": "ipython",
    "version": 3
   },
   "file_extension": ".py",
   "mimetype": "text/x-python",
   "name": "python",
   "nbconvert_exporter": "python",
   "pygments_lexer": "ipython3",
   "version": "3.8.12"
  },
  "toc": {
   "base_numbering": 1,
   "nav_menu": {},
   "number_sections": true,
   "sideBar": true,
   "skip_h1_title": false,
   "title_cell": "Table of Contents",
   "title_sidebar": "Contents",
   "toc_cell": false,
   "toc_position": {},
   "toc_section_display": true,
   "toc_window_display": false
  }
 },
 "nbformat": 4,
 "nbformat_minor": 5
}
