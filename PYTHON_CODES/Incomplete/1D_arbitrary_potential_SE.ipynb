{
 "cells": [
  {
   "cell_type": "code",
   "execution_count": 28,
   "id": "781a492a",
   "metadata": {
    "ExecuteTime": {
     "end_time": "2022-03-19T17:12:00.337374Z",
     "start_time": "2022-03-19T17:12:00.331711Z"
    }
   },
   "outputs": [],
   "source": [
    "import numpy as np\n",
    "import matplotlib.pyplot as plt\n",
    "from scipy.sparse import diags\n",
    "from scipy.sparse.linalg import eigsh\n",
    "%matplotlib inline\n",
    "from numpy.linalg import eig"
   ]
  },
  {
   "cell_type": "markdown",
   "id": "ea104e55",
   "metadata": {},
   "source": [
    "     1D Schrodinger equation\n",
    "     \n",
    "$$ -\\frac{\\hbar^2}{2m} \\frac{d^2}{dx^2}V(x) + U(x)V(x) = EV(x)$$\n",
    "\n",
    "    for arbitrary potentials U(x)."
   ]
  },
  {
   "cell_type": "code",
   "execution_count": 42,
   "id": "06fdf7f2",
   "metadata": {
    "ExecuteTime": {
     "end_time": "2022-03-19T17:31:58.019964Z",
     "start_time": "2022-03-19T17:31:58.014807Z"
    }
   },
   "outputs": [],
   "source": [
    "def laplacian_op(a,b,N = 100):\n",
    "    \"\"\"\n",
    "    Defines the matric form of the Laplacian operator \n",
    "    \n",
    "    params:\n",
    "    a : initial point \n",
    "    b : final point \n",
    "    (b-a) gives the length of the interval\n",
    "    N : Number of co-ordinate points \n",
    "    \"\"\"\n",
    "#     x = np.linspace(a,b,N) # x-vector \n",
    "    dx = x[1] - x[0] # step \n",
    "    k1 = [np.ones(N-1),-2*np.ones(N),np.ones(N-1)]\n",
    "    offset = [-1,0,1]\n",
    "    Lap = diags(k1,offset).toarray()\n",
    "    Lap = Lap/(dx ** 2)\n",
    "    return Lap"
   ]
  },
  {
   "cell_type": "code",
   "execution_count": 64,
   "id": "4eeb4888",
   "metadata": {
    "ExecuteTime": {
     "end_time": "2022-03-19T18:07:55.796420Z",
     "start_time": "2022-03-19T18:07:55.782681Z"
    }
   },
   "outputs": [
    {
     "ename": "ValueError",
     "evalue": "operands could not be broadcast together with shapes (99,99) (100,100) ",
     "output_type": "error",
     "traceback": [
      "\u001b[0;31m---------------------------------------------------------------------------\u001b[0m",
      "\u001b[0;31mValueError\u001b[0m                                Traceback (most recent call last)",
      "\u001b[0;32m<ipython-input-64-07112b7c7275>\u001b[0m in \u001b[0;36m<module>\u001b[0;34m\u001b[0m\n\u001b[1;32m      8\u001b[0m \u001b[0mm\u001b[0m \u001b[0;34m=\u001b[0m\u001b[0;36m1\u001b[0m \u001b[0;31m#electron mass\u001b[0m\u001b[0;34m\u001b[0m\u001b[0;34m\u001b[0m\u001b[0m\n\u001b[1;32m      9\u001b[0m \u001b[0mLap\u001b[0m \u001b[0;34m=\u001b[0m \u001b[0mlaplacian_op\u001b[0m\u001b[0;34m(\u001b[0m\u001b[0;34m-\u001b[0m\u001b[0mL\u001b[0m\u001b[0;34m,\u001b[0m\u001b[0mL\u001b[0m\u001b[0;34m,\u001b[0m\u001b[0mN\u001b[0m\u001b[0;34m-\u001b[0m\u001b[0;36m1\u001b[0m\u001b[0;34m)\u001b[0m \u001b[0;31m#Laplacian\u001b[0m\u001b[0;34m\u001b[0m\u001b[0;34m\u001b[0m\u001b[0m\n\u001b[0;32m---> 10\u001b[0;31m \u001b[0mH\u001b[0m \u001b[0;34m=\u001b[0m \u001b[0;34m-\u001b[0m\u001b[0;34m(\u001b[0m\u001b[0;36m1\u001b[0m\u001b[0;34m/\u001b[0m\u001b[0;36m2\u001b[0m\u001b[0;34m)\u001b[0m\u001b[0;34m*\u001b[0m\u001b[0;34m(\u001b[0m\u001b[0;34m(\u001b[0m\u001b[0mhbar\u001b[0m \u001b[0;34m**\u001b[0m \u001b[0;36m2\u001b[0m\u001b[0;34m)\u001b[0m\u001b[0;34m/\u001b[0m\u001b[0mm\u001b[0m\u001b[0;34m)\u001b[0m \u001b[0;34m*\u001b[0m \u001b[0mLap\u001b[0m \u001b[0;34m+\u001b[0m \u001b[0mdiags\u001b[0m\u001b[0;34m(\u001b[0m\u001b[0mnp\u001b[0m\u001b[0;34m.\u001b[0m\u001b[0msquare\u001b[0m\u001b[0;34m(\u001b[0m\u001b[0mU\u001b[0m\u001b[0;34m)\u001b[0m\u001b[0;34m,\u001b[0m \u001b[0;36m0\u001b[0m\u001b[0;34m)\u001b[0m\u001b[0;34m.\u001b[0m\u001b[0mtoarray\u001b[0m\u001b[0;34m(\u001b[0m\u001b[0;34m)\u001b[0m \u001b[0;31m# Hamiltonian\u001b[0m\u001b[0;34m\u001b[0m\u001b[0;34m\u001b[0m\u001b[0m\n\u001b[0m",
      "\u001b[0;31mValueError\u001b[0m: operands could not be broadcast together with shapes (99,99) (100,100) "
     ]
    }
   ],
   "source": [
    "# parameters for solving problem in the interval -L < x < L.\n",
    "L = 5\n",
    "N = 100\n",
    "x = np.linspace(-L,L,N)\n",
    "dx = x[1] - x[0]\n",
    "U = 1/2 * 100 * np.square(x)\n",
    "hbar = 1 #hbar set to 1\n",
    "m =1 #electron mass \n",
    "Lap = laplacian_op(-L,L,N-1) #Laplacian\n",
    "H = -(1/2)*((hbar ** 2)/m) * Lap + diags(np.square(U), 0).toarray() # Hamiltonian"
   ]
  },
  {
   "cell_type": "code",
   "execution_count": 65,
   "id": "f6ca81c9",
   "metadata": {
    "ExecuteTime": {
     "end_time": "2022-03-19T18:07:57.530475Z",
     "start_time": "2022-03-19T18:07:56.178133Z"
    },
    "code_folding": []
   },
   "outputs": [],
   "source": [
    "vals, vecs = eigsh(H, which='SM')"
   ]
  },
  {
   "cell_type": "code",
   "execution_count": null,
   "id": "86aa6f6a",
   "metadata": {},
   "outputs": [],
   "source": [
    "vec = vecs[:, state] #eiegenfunction for state "
   ]
  }
 ],
 "metadata": {
  "kernelspec": {
   "display_name": "Python 3",
   "language": "python",
   "name": "python3"
  },
  "language_info": {
   "codemirror_mode": {
    "name": "ipython",
    "version": 3
   },
   "file_extension": ".py",
   "mimetype": "text/x-python",
   "name": "python",
   "nbconvert_exporter": "python",
   "pygments_lexer": "ipython3",
   "version": "3.8.12"
  },
  "toc": {
   "base_numbering": 1,
   "nav_menu": {},
   "number_sections": true,
   "sideBar": true,
   "skip_h1_title": false,
   "title_cell": "Table of Contents",
   "title_sidebar": "Contents",
   "toc_cell": false,
   "toc_position": {},
   "toc_section_display": true,
   "toc_window_display": false
  }
 },
 "nbformat": 4,
 "nbformat_minor": 5
}
