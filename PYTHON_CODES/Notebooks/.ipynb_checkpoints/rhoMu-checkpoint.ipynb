{
 "cells": [
  {
   "cell_type": "markdown",
   "id": "50ed60d3",
   "metadata": {},
   "source": [
    "## Hubbard Hamiltonian (PHS)\n",
    "[Hubbard Reference](https://www.cond-mat.de/events/correl16/manuscripts/scalettar.pdf)\n",
    "\n",
    "$c_{l\\sigma}^\\dagger \\rightarrow (-1)^l c_{l\\sigma}$\n",
    "    \n",
    "$$\\hat{H} = -t \\sum_{\\langle j,l \\rangle\\sigma} (c_{j\\sigma}^\\dagger c_{l\\sigma}) + (c_{l\\sigma}^\\dagger c_{j\\sigma}) + U \\sum_{j} (n_{j\\uparrow}- \\frac{1}{2})(n_{j\\downarrow}-\\frac{1}{2}) + \\mu \\sum_{j}(n_{j\\uparrow} + n_{j\\downarrow})$$\n",
    "\n",
    "### Inorder to understand few things about the Hamiltonian, we will look at the Single-site limit(i.e t=0)\n",
    "\n",
    "$$\\hat{H}_{t=0} = U \\sum_{j} (n_{j\\uparrow}- \\frac{1}{2})(n_{j\\downarrow}-\\frac{1}{2}) + \\mu \\sum_{j}(n_{j\\uparrow} + n_{j\\downarrow})$$\n",
    "\n",
    "### Possible Configurations and corresponding energy\n",
    "\n",
    "$$\n",
    "\\begin{align}\n",
    "|0 \\rangle : & \\frac{U}{4}&\\\\\n",
    "|\\uparrow(\\downarrow) \\rangle : & -\\frac{U}{4} - \\mu&\\\\\n",
    "% |\\rangle : & -\\frac{U}{4} - \\mu&\\\\\n",
    "|\\uparrow \\downarrow\\rangle : & \\frac{U}{4} - 2\\mu\n",
    "\\end{align}\n",
    "$$\n",
    "\n",
    "#### Using the mentioned eigenvalues , we can construct the partition function $$Z = Tr[e^{-\\beta U/4}]$$, and \n",
    "\n",
    "#### The occupation is given, by\n",
    "\n",
    "$$\\rho = \\langle n_\\uparrow + n_\\downarrow \\rangle = Z^{-1} Tr[(n_\\uparrow + n_\\downarrow)e^{-\\beta \\hat{H}}]$$"
   ]
  },
  {
   "cell_type": "code",
   "execution_count": 20,
   "id": "8d2beaba",
   "metadata": {
    "ExecuteTime": {
     "end_time": "2022-03-15T17:34:24.717715Z",
     "start_time": "2022-03-15T17:34:24.710335Z"
    }
   },
   "outputs": [],
   "source": [
    "%matplotlib notebook\n",
    "from ipywidgets import *\n",
    "import numpy as np\n",
    "import matplotlib.pyplot as plt\n",
    "from PIL import Image"
   ]
  },
  {
   "cell_type": "code",
   "execution_count": 21,
   "id": "31493a14",
   "metadata": {
    "ExecuteTime": {
     "end_time": "2022-03-15T17:34:24.727642Z",
     "start_time": "2022-03-15T17:34:24.720775Z"
    }
   },
   "outputs": [],
   "source": [
    "def calculate_density(mu,T, U=4):\n",
    "    beta = 1/T\n",
    "    E0 = (-beta * (U/4))\n",
    "    E1 = (-beta * (-U/4 - mu))\n",
    "    E2 = (-beta * (U/4 - 2*mu))\n",
    "    Z = np.exp(E0) + 2 * np.exp(E1) + np.exp(E2)\n",
    "    rho = (1/Z) * (2 * np.exp(E1) + 2 * np.exp(E2))\n",
    "    return rho"
   ]
  },
  {
   "cell_type": "code",
   "execution_count": 22,
   "id": "2f5c395e",
   "metadata": {
    "ExecuteTime": {
     "end_time": "2022-03-15T17:34:24.735567Z",
     "start_time": "2022-03-15T17:34:24.730931Z"
    }
   },
   "outputs": [],
   "source": [
    "def fig2img(fig):\n",
    "    \"\"\"Convert a Matplotlib figure to a PIL Image and return it\"\"\"\n",
    "    import io\n",
    "    buf = io.BytesIO()\n",
    "    fig.savefig(buf)\n",
    "    buf.seek(0)\n",
    "    img = Image.open(buf)\n",
    "    return img"
   ]
  },
  {
   "cell_type": "code",
   "execution_count": 23,
   "id": "5ab3e120",
   "metadata": {
    "ExecuteTime": {
     "end_time": "2022-03-15T17:34:24.745318Z",
     "start_time": "2022-03-15T17:34:24.738584Z"
    }
   },
   "outputs": [],
   "source": [
    "def create_rho_mu_list(T=[2,1.5,1.25,1,0.5,0.25],U =4):\n",
    "    list_ = []\n",
    "    for val in T :\n",
    "        mu = np.linspace(-6,6,100)\n",
    "        rho_list = []\n",
    "        for vals in mu:\n",
    "            rho = calculate_density(vals,val,U)\n",
    "            rho_list.append(rho)\n",
    "        list_.append(rho_list)\n",
    "    return list_, mu, T,U"
   ]
  },
  {
   "cell_type": "code",
   "execution_count": 24,
   "id": "b6240f42",
   "metadata": {
    "ExecuteTime": {
     "end_time": "2022-03-15T17:34:24.757032Z",
     "start_time": "2022-03-15T17:34:24.747704Z"
    }
   },
   "outputs": [],
   "source": [
    "def makes_images_list(list_,U):\n",
    "    images = []\n",
    "    u =U/2\n",
    "    for i in range(len(list_)):\n",
    "        plt.plot(mu,list_[i],label=f\"T : {T[i]}K\")\n",
    "        plt.grid()\n",
    "        plt.xlabel(\"$\\mu$\")\n",
    "        plt.ylabel(r\"$\\rho$\")\n",
    "        plt.xlim([-6,6])\n",
    "        plt.ylim([-0.05,2.05])\n",
    "        plt.legend()\n",
    "        plt.title(f\"rho VS $\\mu$ | t : 0 |  U : {U}\")\n",
    "        plt.axhline(1, linestyle='--')\n",
    "        plt.axvline(0, linestyle='--')\n",
    "        plt.axvline(u, linestyle=':',color='r')\n",
    "        plt.axvline(-u, linestyle=':',color='r')\n",
    "        fig = plt.gcf()\n",
    "        plt.savefig(\"rhoVSmu.png\")\n",
    "        img = fig2img(fig)\n",
    "        images.append(img)\n",
    "    return images"
   ]
  },
  {
   "cell_type": "code",
   "execution_count": 25,
   "id": "e6d913a2",
   "metadata": {
    "ExecuteTime": {
     "end_time": "2022-03-15T17:34:24.765107Z",
     "start_time": "2022-03-15T17:34:24.759717Z"
    }
   },
   "outputs": [],
   "source": [
    "def display_sequence(images):\n",
    "    def _show(frame=(0,len(images) -1)):\n",
    "        return images[frame]\n",
    "    return interact(_show)"
   ]
  },
  {
   "cell_type": "code",
   "execution_count": 28,
   "id": "771d01ed",
   "metadata": {
    "ExecuteTime": {
     "end_time": "2022-03-15T17:35:15.458943Z",
     "start_time": "2022-03-15T17:35:13.807094Z"
    }
   },
   "outputs": [],
   "source": [
    "%%capture\n",
    "list_,mu,T,U = create_rho_mu_list(U=4)\n",
    "images = makes_images_list(list_,U)"
   ]
  },
  {
   "cell_type": "code",
   "execution_count": 29,
   "id": "cd4a88c5",
   "metadata": {
    "ExecuteTime": {
     "end_time": "2022-03-15T17:35:17.795381Z",
     "start_time": "2022-03-15T17:35:17.672388Z"
    }
   },
   "outputs": [
    {
     "data": {
      "application/vnd.jupyter.widget-view+json": {
       "model_id": "928e51bffccd4361b70588044823987d",
       "version_major": 2,
       "version_minor": 0
      },
      "text/plain": [
       "interactive(children=(IntSlider(value=2, description='frame', max=5), Output()), _dom_classes=('widget-interac…"
      ]
     },
     "metadata": {},
     "output_type": "display_data"
    },
    {
     "data": {
      "text/plain": [
       "<function __main__.display_sequence.<locals>._show(frame=(0, 5))>"
      ]
     },
     "execution_count": 29,
     "metadata": {},
     "output_type": "execute_result"
    }
   ],
   "source": [
    "display_sequence(images=images)"
   ]
  },
  {
   "cell_type": "code",
   "execution_count": null,
   "id": "d71e305b",
   "metadata": {},
   "outputs": [],
   "source": []
  }
 ],
 "metadata": {
  "kernelspec": {
   "display_name": "Python 3",
   "language": "python",
   "name": "python3"
  },
  "language_info": {
   "codemirror_mode": {
    "name": "ipython",
    "version": 3
   },
   "file_extension": ".py",
   "mimetype": "text/x-python",
   "name": "python",
   "nbconvert_exporter": "python",
   "pygments_lexer": "ipython3",
   "version": "3.8.12"
  },
  "toc": {
   "base_numbering": 1,
   "nav_menu": {},
   "number_sections": true,
   "sideBar": true,
   "skip_h1_title": false,
   "title_cell": "Table of Contents",
   "title_sidebar": "Contents",
   "toc_cell": false,
   "toc_position": {},
   "toc_section_display": true,
   "toc_window_display": false
  }
 },
 "nbformat": 4,
 "nbformat_minor": 5
}
