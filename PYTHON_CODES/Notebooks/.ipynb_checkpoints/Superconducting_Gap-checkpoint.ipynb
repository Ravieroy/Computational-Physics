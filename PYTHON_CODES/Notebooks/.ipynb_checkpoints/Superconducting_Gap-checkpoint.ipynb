{
 "cells": [
  {
   "cell_type": "code",
   "execution_count": 1,
   "id": "0217b1f7",
   "metadata": {
    "ExecuteTime": {
     "end_time": "2022-03-15T13:33:31.575471Z",
     "start_time": "2022-03-15T13:33:30.690737Z"
    }
   },
   "outputs": [],
   "source": [
    "import numpy as np\n",
    "import matplotlib.pyplot as plt\n",
    "import numba"
   ]
  },
  {
   "cell_type": "markdown",
   "id": "f025ca30",
   "metadata": {},
   "source": [
    "### We use the following expression to solve the self-consistent gap equation. \n",
    "[StackExchange Link](https://physics.stackexchange.com/questions/54200/superconducting-gap-temperature-dependence-how-to-calculate-this-integral)\n",
    "\n",
    "$$\\eta \\approx \\int_{0}^{\\delta^{-1}\\sinh\\eta}\\tanh\\left(0.882 \\frac{\\delta}{\\tau}\\sqrt{1+z^{2}}\\right)\\frac{dz}{\\sqrt{1+z^{2}}}\n",
    "$$\n",
    "\n",
    "Where,\n",
    "\n",
    "$\\delta=\\Delta(T)/\\Delta_{0}$, $\\eta = \\frac{1}{N(0)V}\n",
    "$ and $\\tau = T / T_{c}$\n",
    "<br>\n",
    "<br>\n",
    "#### Basic Idea(Algorithm)\n",
    " - We fix $\\eta$ for the whole run. The typical value for eta is around ~ 3\n",
    " - We then fix $\\delta$ and let the solver run to find the value of $\\tau$ for which L.H.S($\\eta$) is equal to the R.H.S (the integration). Numerically we fix a tolerance value for this. \n",
    " - We then change the $\\delta$ and repeat the above step to get another $\\tau$\n",
    " - This way we get $\\delta(\\tau)$ which then we can plot"
   ]
  },
  {
   "cell_type": "code",
   "execution_count": 2,
   "id": "0eedb07c",
   "metadata": {
    "ExecuteTime": {
     "end_time": "2022-03-15T13:33:31.627638Z",
     "start_time": "2022-03-15T13:33:31.577450Z"
    },
    "code_folding": []
   },
   "outputs": [],
   "source": [
    "@numba.jit(nopython=True)\n",
    "def fn(x,delta=0.5,tau=0.5):\n",
    "    \"\"\"\n",
    "    Defines the function in the integrand.\n",
    "    \n",
    "    :Params\n",
    "    delta : default value is 0.5\n",
    "    tau : default value is 0.5\n",
    "    \"\"\"\n",
    "    \n",
    "    return np.sqrt((1/(1+ x ** 2))) * np.tanh(0.882 * (delta/tau) * np.sqrt(1 + x ** 2))"
   ]
  },
  {
   "cell_type": "code",
   "execution_count": 3,
   "id": "440ee163",
   "metadata": {
    "ExecuteTime": {
     "end_time": "2022-03-15T13:33:31.634182Z",
     "start_time": "2022-03-15T13:33:31.629931Z"
    },
    "code_folding": []
   },
   "outputs": [],
   "source": [
    "def plot_fn(delta=0.5,tau=0.5):\n",
    "    \"\"\"\n",
    "    Plots the function defined in fn(x)\n",
    "    \"\"\"\n",
    "    x = np.linspace(0.01,1,100)\n",
    "    y = fn(x)\n",
    "    plt.plot(x,y)\n",
    "    plt.xlabel(r\"$\\tau$\")\n",
    "    plt.ylabel(\"f(x)\")\n",
    "    plt.show()\n",
    "    "
   ]
  },
  {
   "cell_type": "code",
   "execution_count": 4,
   "id": "ec81c88e",
   "metadata": {
    "ExecuteTime": {
     "end_time": "2022-03-15T13:33:32.946599Z",
     "start_time": "2022-03-15T13:33:31.637025Z"
    }
   },
   "outputs": [
    {
     "data": {
      "image/png": "[encoded data removed]",
      "text/plain": [
       "<Figure size 432x288 with 1 Axes>"
      ]
     },
     "metadata": {
      "needs_background": "light"
     },
     "output_type": "display_data"
    }
   ],
   "source": [
    "plot_fn()"
   ]
  },
  {
   "cell_type": "code",
   "execution_count": 5,
   "id": "c1bf9bf3",
   "metadata": {
    "ExecuteTime": {
     "end_time": "2022-03-15T13:33:32.954254Z",
     "start_time": "2022-03-15T13:33:32.948287Z"
    },
    "code_folding": []
   },
   "outputs": [],
   "source": [
    "@numba.jit(nopython=True)\n",
    "def simpsons_int(delta,tau = 0.5,eta = 3.2):\n",
    "    \"\"\"\n",
    "    Evaluates the integration of the function fn(x) in the limit a to b for given value of \n",
    "    delta, tau and eta\n",
    "    \n",
    "    :Params\n",
    "    delta : no default value is provided\n",
    "    tau : default value is 0.5\n",
    "    eta : default value is 3.2\n",
    "    \"\"\"\n",
    "    \n",
    "    a = 0\n",
    "    b = (np.sinh(eta)/delta)\n",
    "    n = 1000\n",
    "    h = (b-a)/n\n",
    "    x = np.linspace(a,b,n+1)\n",
    "    y = fn(x,delta,tau)\n",
    "    I_simp = h/3 * np.sum(y[0:-1:2] + 4*y[1::2] + y[2::2])\n",
    "    \n",
    "    return I_simp\n",
    "    "
   ]
  },
  {
   "cell_type": "code",
   "execution_count": 6,
   "id": "138ff178",
   "metadata": {
    "ExecuteTime": {
     "end_time": "2022-03-15T13:33:32.962979Z",
     "start_time": "2022-03-15T13:33:32.956340Z"
    }
   },
   "outputs": [],
   "source": [
    "@numba.jit(nopython=True)\n",
    "def find_min_tau(delta,eta=3.2):\n",
    "    \"\"\"\n",
    "    Finds the minimum value of tau for a given delta  which satisfies the self-consistency relation. \n",
    "    \n",
    "    Since the variation is almost flat for large range of values,the self-consistent condition is satisfied\n",
    "    for multiple values which gets repeated for different deltas. Hence for a one-to-one mapping we take\n",
    "    minimum value. \n",
    "    \n",
    "    :params\n",
    "    delta : no default value\n",
    "    eta : default value is 3.2\n",
    "    \n",
    "    \"\"\"\n",
    "    tau_list = []\n",
    "    for i in range(0,100):\n",
    "        tau = 0.0001 + 0.01*i\n",
    "        eps = abs(eta - simpsons_int(delta, tau))\n",
    "        if eps < 0.01:\n",
    "            tau_list.append(tau)\n",
    "    return min(tau_list)\n",
    "    "
   ]
  },
  {
   "cell_type": "code",
   "execution_count": 7,
   "id": "308b4167",
   "metadata": {
    "ExecuteTime": {
     "end_time": "2022-03-15T13:33:32.970659Z",
     "start_time": "2022-03-15T13:33:32.965346Z"
    }
   },
   "outputs": [],
   "source": [
    "@numba.jit(nopython=True)\n",
    "def solver(n_delta = 500):\n",
    "    delta = np.linspace(0.999,0.1,n_delta)\n",
    "    taus =[]\n",
    "    deltas =[]\n",
    "    for values in delta: #iterating over different values of deltas\n",
    "        min_ = find_min_tau(values)\n",
    "        if min_ not in taus: # so that we only have unique set of points\n",
    "            taus.append(min_)\n",
    "            deltas.append(values)\n",
    "    return taus, deltas"
   ]
  },
  {
   "cell_type": "code",
   "execution_count": 8,
   "id": "80ee4203",
   "metadata": {
    "ExecuteTime": {
     "end_time": "2022-03-15T13:33:32.980497Z",
     "start_time": "2022-03-15T13:33:32.974419Z"
    }
   },
   "outputs": [],
   "source": [
    "def plot_result():\n",
    "    #-----adding end point data\n",
    "    taus.insert(0,0) # at tau =0; delta = 1\n",
    "    taus.insert(len(taus),1) #at tau = 1, delta=0\n",
    "    deltas.insert(0,1)\n",
    "    deltas.insert(len(deltas),0)\n",
    "    #-----\n",
    "    plt.figure(figsize=(8,4), tight_layout=True)\n",
    "    plt.plot(taus,deltas,'r-.',label=r\"$\\delta(\\tau)$\",linewidth=3.0)\n",
    "    plt.xlabel(r\"$\\tau$\",fontsize=18)\n",
    "    plt.ylabel(r\"$\\delta$\",fontsize=18)\n",
    "    plt.legend(prop={'size': 15})\n",
    "    plt.grid()\n",
    "    plt.show()"
   ]
  },
  {
   "cell_type": "code",
   "execution_count": 10,
   "id": "3521532a",
   "metadata": {
    "ExecuteTime": {
     "end_time": "2022-03-15T13:33:47.887739Z",
     "start_time": "2022-03-15T13:33:46.785703Z"
    }
   },
   "outputs": [
    {
     "data": {
      "image/png": "[encoded data removed]",
      "text/plain": [
       "<Figure size 576x288 with 1 Axes>"
      ]
     },
     "metadata": {
      "needs_background": "light"
     },
     "output_type": "display_data"
    }
   ],
   "source": [
    "taus, deltas = solver(n_delta=200)\n",
    "plot_result()"
   ]
  }
 ],
 "metadata": {
  "kernelspec": {
   "display_name": "Python 3",
   "language": "python",
   "name": "python3"
  },
  "language_info": {
   "codemirror_mode": {
    "name": "ipython",
    "version": 3
   },
   "file_extension": ".py",
   "mimetype": "text/x-python",
   "name": "python",
   "nbconvert_exporter": "python",
   "pygments_lexer": "ipython3",
   "version": "3.8.12"
  },
  "toc": {
   "base_numbering": 1,
   "nav_menu": {},
   "number_sections": true,
   "sideBar": true,
   "skip_h1_title": false,
   "title_cell": "Table of Contents",
   "title_sidebar": "Contents",
   "toc_cell": false,
   "toc_position": {},
   "toc_section_display": true,
   "toc_window_display": false
  }
 },
 "nbformat": 4,
 "nbformat_minor": 5
}
